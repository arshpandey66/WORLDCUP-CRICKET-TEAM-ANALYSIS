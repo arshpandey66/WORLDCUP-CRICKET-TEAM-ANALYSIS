{
 "cells": [
  {
   "cell_type": "code",
   "execution_count": 73,
   "metadata": {},
   "outputs": [
    {
     "data": {
      "text/plain": [
       "',Team 1,Team 2,Winner,Margin,Ground,Match Date,Scorecard\\r\\n0,England,Pakistan,England,5 wickets,Melbourne,\"Nov 13, 2022\",T20I # 1879\\r\\n1,England,India,England,10 wickets,Adelaide,\"Nov 10, 2022\",T20I # 1878\\r\\n2,New Zealand,Pakistan,Pakistan,7 wickets,Sydney,\"Nov 9, 2022\",T20I # 1877\\r\\n3,India,Zimbabwe,India,71 runs,Melbourne,\"Nov 6, 2022\",T20I # 1873\\r\\n4,Bangladesh,Pakistan,Pakistan,5 wickets,Adelaide,\"Nov 6, 2022\",T20I # 1872\\r\\n5,Netherlands,South Africa,Netherlands,13 runs,Adelaide,\"Nov 6, 2022\",T20I # 1871\\r\\n6,England,Sri Lanka,England,4 wickets,Sydney,\"Nov 5, 2022\",T20I # 1867\\r\\n7,Australia,Afghanistan,Australia,4 runs,Adelaide,\"Nov 4, 2022\",T20I # 1864\\r\\n8,Ireland,New Zealand,New Zealand,35 runs,Adelaide,\"Nov 4, 2022\",T20I # 1862\\r\\n9,Pakistan,South Africa,Pakistan,33 runs,Sydney,\"Nov 3, 2022\",T20I # 1861\\r\\n10,Bangladesh,India,India,5 runs,Adelaide,\"Nov 2, 2022\",T20I # 1860\\r\\n11,Netherlands,Zimbabwe,Netherlands,5 wickets,Adelaide,\"Nov 2, 2022\",T20I # 1859\\r\\n12,England,New Zealand,England,20 runs,Brisbane,\"Nov 1, 2022\",T20I # 1858\\r\\n13,Afghanistan,Sri Lanka,Sri Lanka,6 wickets,Brisbane,\"Nov 1, 2022\",T20I # 1856\\r\\n14,Australia,Ireland,Australia,42 runs,Brisbane,\"Oct 31, 2022\",T20I # 1855\\r\\n15,India,South Africa,South Africa,5 wickets,Perth,\"Oct 30, 2022\",T20I # 1853\\r\\n16,Netherlands,Pakistan,Pakistan,6 wickets,Perth,\"Oct 30, 2022\",T20I # 1852\\r\\n17,Bangladesh,Zimbabwe,Bangladesh,3 runs,Brisbane,\"Oct 30, 2022\",T20I # 1851\\r\\n18,New Zealand,Sri Lanka,New Zealand,65 runs,Sydney,\"Oct 29, 2022\",T20I # 1850\\r\\n19,Pakistan,Zimbabwe,Zimbabwe,1 run,Perth,\"Oct 27, 2022\",T20I # 1849\\r\\n20,India,Netherlands,India,56 runs,Sydney,\"Oct 27, 2022\",T20I # 1848\\r\\n21,Bangladesh,South Africa,South Africa,104 runs,Sydney,\"Oct 27, 2022\",T20I # 1847\\r\\n22,England,Ireland,Ireland,5 runs,Melbourne,\"Oct 26, 2022\",T20I # 1846\\r\\n23,Australia,Sri Lanka,Australia,7 wickets,Perth,\"Oct 25, 2022\",T20I # 1845\\r\\n24,South Africa,Zimbabwe,no result,-,Hobart,\"Oct 24, 2022\",T20I # 1844\\r\\n25,Bangladesh,Netherlands,Bangladesh,9 runs,Hobart,\"Oct 24, 2022\",T20I # 1843\\r\\n26,India,Pakistan,India,4 wickets,Melbourne,\"Oct 23, 2022\",T20I # 1842\\r\\n27,Ireland,Sri Lanka,Sri Lanka,9 wickets,Hobart,\"Oct 23, 2022\",T20I # 1841\\r\\n28,Afghanistan,England,England,5 wickets,Perth,\"Oct 22, 2022\",T20I # 1840\\r\\n29,Australia,New Zealand,New Zealand,89 runs,Sydney,\"Oct 22, 2022\",T20I # 1839\\r\\n30,Scotland,Zimbabwe,Zimbabwe,5 wickets,Hobart,\"Oct 21, 2022\",T20I # 1838\\r\\n31,Ireland,West Indies,Ireland,9 wickets,Hobart,\"Oct 21, 2022\",T20I # 1837\\r\\n32,Namibia,U.A.E.,U.A.E.,7 runs,Geelong,\"Oct 20, 2022\",T20I # 1836\\r\\n33,Netherlands,Sri Lanka,Sri Lanka,16 runs,Geelong,\"Oct 20, 2022\",T20I # 1835\\r\\n34,West Indies,Zimbabwe,West Indies,31 runs,Hobart,\"Oct 19, 2022\",T20I # 1834\\r\\n35,Ireland,Scotland,Ireland,6 wickets,Hobart,\"Oct 19, 2022\",T20I # 1833\\r\\n36,Sri Lanka,U.A.E.,Sri Lanka,79 runs,Geelong,\"Oct 18, 2022\",T20I # 1832\\r\\n37,Namibia,Netherlands,Netherlands,5 wickets,Geelong,\"Oct 18, 2022\",T20I # 1830\\r\\n38,Ireland,Zimbabwe,Zimbabwe,31 runs,Hobart,\"Oct 17, 2022\",T20I # 1828\\r\\n39,Scotland,West Indies,Scotland,42 runs,Hobart,\"Oct 17, 2022\",T20I # 1826\\r\\n40,Netherlands,U.A.E.,Netherlands,3 wickets,Geelong,\"Oct 16, 2022\",T20I # 1825\\r\\n41,Namibia,Sri Lanka,Namibia,55 runs,Geelong,\"Oct 16, 2022\",T20I # 1823\\r\\n'"
      ]
     },
     "execution_count": 73,
     "metadata": {},
     "output_type": "execute_result"
    }
   ],
   "source": [
    "import pandas as pd\n",
    "y=pd.read_html(\"https://www.espncricinfo.com/records/tournament/team-match-results/icc-men-s-t20-world-cup-2022-23-14450\")\n",
    "y=pd.DataFrame(y[0])\n",
    "y[\"Team 1\"]\n",
    "y.to_csv()"
   ]
  }
 ],
 "metadata": {
  "kernelspec": {
   "display_name": "Python 3",
   "language": "python",
   "name": "python3"
  },
  "language_info": {
   "codemirror_mode": {
    "name": "ipython",
    "version": 3
   },
   "file_extension": ".py",
   "mimetype": "text/x-python",
   "name": "python",
   "nbconvert_exporter": "python",
   "pygments_lexer": "ipython3",
   "version": "3.12.4"
  }
 },
 "nbformat": 4,
 "nbformat_minor": 2
}
